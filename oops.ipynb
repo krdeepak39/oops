{
 "cells": [
  {
   "cell_type": "markdown",
   "id": "0800d98f",
   "metadata": {},
   "source": [
    "object oriented programming structure\n",
    "1. fast\n",
    "2. structure\n",
    "3. reusable\n",
    "4. inheritance"
   ]
  },
  {
   "cell_type": "code",
   "execution_count": 4,
   "id": "072ffbc5",
   "metadata": {},
   "outputs": [],
   "source": [
    "a= [1,2,3.4,5,6,233]"
   ]
  },
  {
   "cell_type": "code",
   "execution_count": 5,
   "id": "e3efb8c1",
   "metadata": {},
   "outputs": [
    {
     "data": {
      "text/plain": [
       "True"
      ]
     },
     "execution_count": 5,
     "metadata": {},
     "output_type": "execute_result"
    }
   ],
   "source": [
    "isinstance(a,list)"
   ]
  },
  {
   "cell_type": "code",
   "execution_count": 6,
   "id": "3a2b0fd2",
   "metadata": {},
   "outputs": [
    {
     "data": {
      "text/plain": [
       "True"
      ]
     },
     "execution_count": 6,
     "metadata": {},
     "output_type": "execute_result"
    }
   ],
   "source": [
    "isinstance(a, object) # is check weather both are belongs to same class"
   ]
  },
  {
   "cell_type": "code",
   "execution_count": 7,
   "id": "04332ae7",
   "metadata": {},
   "outputs": [
    {
     "data": {
      "text/plain": [
       "False"
      ]
     },
     "execution_count": 7,
     "metadata": {},
     "output_type": "execute_result"
    }
   ],
   "source": [
    "isinstance(float,list)"
   ]
  },
  {
   "cell_type": "code",
   "execution_count": 8,
   "id": "f895544b",
   "metadata": {},
   "outputs": [],
   "source": [
    "class Student:\n",
    "    course =' Date_Science' #here varible is called attributes\n",
    "    mentor= 'Abhijeet'\n",
    "    institute= 'Coding_block'\n",
    "    "
   ]
  },
  {
   "cell_type": "code",
   "execution_count": 9,
   "id": "fcad7580",
   "metadata": {},
   "outputs": [
    {
     "data": {
      "text/plain": [
       "'Abhijeet'"
      ]
     },
     "execution_count": 9,
     "metadata": {},
     "output_type": "execute_result"
    }
   ],
   "source": [
    "Student.mentor\n"
   ]
  },
  {
   "cell_type": "code",
   "execution_count": 10,
   "id": "f68093f2",
   "metadata": {},
   "outputs": [
    {
     "data": {
      "text/plain": [
       "'Coding_block'"
      ]
     },
     "execution_count": 10,
     "metadata": {},
     "output_type": "execute_result"
    }
   ],
   "source": [
    "Student.institute\n"
   ]
  },
  {
   "cell_type": "code",
   "execution_count": 12,
   "id": "5c2f3ea3",
   "metadata": {},
   "outputs": [],
   "source": [
    "student1 = Student() #wheneve the class is called it creates a object"
   ]
  },
  {
   "cell_type": "code",
   "execution_count": 13,
   "id": "0a79caf5",
   "metadata": {},
   "outputs": [
    {
     "data": {
      "text/plain": [
       "True"
      ]
     },
     "execution_count": 13,
     "metadata": {},
     "output_type": "execute_result"
    }
   ],
   "source": [
    "isinstance(student1, object)"
   ]
  },
  {
   "cell_type": "code",
   "execution_count": 14,
   "id": "6948f386",
   "metadata": {},
   "outputs": [
    {
     "data": {
      "text/plain": [
       "'Abhijeet'"
      ]
     },
     "execution_count": 14,
     "metadata": {},
     "output_type": "execute_result"
    }
   ],
   "source": [
    "student1.mentor"
   ]
  },
  {
   "cell_type": "code",
   "execution_count": 15,
   "id": "3ae6b9f4",
   "metadata": {},
   "outputs": [
    {
     "name": "stdout",
     "output_type": "stream",
     "text": [
      " Date_Science Coding_block Abhijeet\n"
     ]
    }
   ],
   "source": [
    "print(student1.course, student1.institute, student1.mentor)"
   ]
  },
  {
   "cell_type": "code",
   "execution_count": 16,
   "id": "3f4d3ac4",
   "metadata": {},
   "outputs": [],
   "source": [
    "student2 = Student()"
   ]
  },
  {
   "cell_type": "code",
   "execution_count": 17,
   "id": "777dfa0b",
   "metadata": {},
   "outputs": [
    {
     "name": "stdout",
     "output_type": "stream",
     "text": [
      " Date_Science Coding_block Abhijeet\n"
     ]
    }
   ],
   "source": [
    "print(student2.course, student2.institute, student2.mentor)"
   ]
  },
  {
   "cell_type": "code",
   "execution_count": 21,
   "id": "2621cb40",
   "metadata": {},
   "outputs": [
    {
     "data": {
      "text/plain": [
       "False"
      ]
     },
     "execution_count": 21,
     "metadata": {},
     "output_type": "execute_result"
    }
   ],
   "source": [
    "id(student1)==id(student2) #address of the object is different where is in class it same"
   ]
  },
  {
   "cell_type": "code",
   "execution_count": 20,
   "id": "09487b73",
   "metadata": {},
   "outputs": [
    {
     "data": {
      "text/plain": [
       "False"
      ]
     },
     "execution_count": 20,
     "metadata": {},
     "output_type": "execute_result"
    }
   ],
   "source": [
    "id(student1)==id(Student) "
   ]
  },
  {
   "cell_type": "code",
   "execution_count": null,
   "id": "020ddd3a",
   "metadata": {},
   "outputs": [],
   "source": []
  }
 ],
 "metadata": {
  "kernelspec": {
   "display_name": "Python 3 (ipykernel)",
   "language": "python",
   "name": "python3"
  },
  "language_info": {
   "codemirror_mode": {
    "name": "ipython",
    "version": 3
   },
   "file_extension": ".py",
   "mimetype": "text/x-python",
   "name": "python",
   "nbconvert_exporter": "python",
   "pygments_lexer": "ipython3",
   "version": "3.11.4"
  }
 },
 "nbformat": 4,
 "nbformat_minor": 5
}
